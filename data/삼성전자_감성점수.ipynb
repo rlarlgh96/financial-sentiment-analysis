{
 "cells": [
  {
   "cell_type": "code",
   "execution_count": 1,
   "id": "b65f533f",
   "metadata": {},
   "outputs": [],
   "source": [
    "import pandas as pd\n",
    "import nltk\n",
    "from nltk.sentiment.vader import SentimentIntensityAnalyzer"
   ]
  },
  {
   "cell_type": "code",
   "execution_count": 2,
   "id": "6502c907",
   "metadata": {},
   "outputs": [
    {
     "name": "stderr",
     "output_type": "stream",
     "text": [
      "[nltk_data] Downloading package vader_lexicon to\n",
      "[nltk_data]     /Users/kyo/nltk_data...\n",
      "[nltk_data]   Package vader_lexicon is already up-to-date!\n"
     ]
    },
    {
     "data": {
      "text/plain": [
       "True"
      ]
     },
     "execution_count": 2,
     "metadata": {},
     "output_type": "execute_result"
    }
   ],
   "source": [
    "nltk.download('vader_lexicon')"
   ]
  },
  {
   "cell_type": "code",
   "execution_count": 3,
   "id": "6ac71499",
   "metadata": {},
   "outputs": [],
   "source": [
    "df = pd.read_csv('./scraping/삼성전자_ENG.csv', parse_dates=['날짜'])"
   ]
  },
  {
   "cell_type": "code",
   "execution_count": 4,
   "id": "3ae4d75b",
   "metadata": {},
   "outputs": [],
   "source": [
    "senti_analyzer = SentimentIntensityAnalyzer()\n",
    "score = []"
   ]
  },
  {
   "cell_type": "code",
   "execution_count": 5,
   "id": "745d42f2",
   "metadata": {},
   "outputs": [],
   "source": [
    "for i in range(len(df)):\n",
    "    senti_scores = senti_analyzer.polarity_scores(df['뉴스제목'][i])\n",
    "    score.append(senti_scores['compound'])"
   ]
  },
  {
   "cell_type": "code",
   "execution_count": 6,
   "id": "ff11ce72",
   "metadata": {},
   "outputs": [],
   "source": [
    "df['감성점수'] = score"
   ]
  },
  {
   "cell_type": "code",
   "execution_count": 7,
   "id": "4454b267",
   "metadata": {},
   "outputs": [
    {
     "data": {
      "text/html": [
       "<div>\n",
       "<style scoped>\n",
       "    .dataframe tbody tr th:only-of-type {\n",
       "        vertical-align: middle;\n",
       "    }\n",
       "\n",
       "    .dataframe tbody tr th {\n",
       "        vertical-align: top;\n",
       "    }\n",
       "\n",
       "    .dataframe thead th {\n",
       "        text-align: right;\n",
       "    }\n",
       "</style>\n",
       "<table border=\"1\" class=\"dataframe\">\n",
       "  <thead>\n",
       "    <tr style=\"text-align: right;\">\n",
       "      <th></th>\n",
       "      <th>날짜</th>\n",
       "      <th>뉴스제목</th>\n",
       "      <th>감성점수</th>\n",
       "    </tr>\n",
       "  </thead>\n",
       "  <tbody>\n",
       "    <tr>\n",
       "      <th>0</th>\n",
       "      <td>2022-01-01</td>\n",
       "      <td>I'm an elementary school student. I'm a shareh...</td>\n",
       "      <td>0.1779</td>\n",
       "    </tr>\n",
       "    <tr>\n",
       "      <th>1</th>\n",
       "      <td>2022-01-01</td>\n",
       "      <td>\"Samsung Electronics Article 100 and SK Hynix ...</td>\n",
       "      <td>0.0000</td>\n",
       "    </tr>\n",
       "    <tr>\n",
       "      <th>2</th>\n",
       "      <td>2022-01-01</td>\n",
       "      <td>\"New performance record\" Should Samsung Electr...</td>\n",
       "      <td>0.0000</td>\n",
       "    </tr>\n",
       "    <tr>\n",
       "      <th>3</th>\n",
       "      <td>2022-01-02</td>\n",
       "      <td>\"I'm the king of semiconductors\"...Samsung Ele...</td>\n",
       "      <td>-0.3818</td>\n",
       "    </tr>\n",
       "    <tr>\n",
       "      <th>4</th>\n",
       "      <td>2022-01-02</td>\n",
       "      <td>Samsung Electronics has regained its semicondu...</td>\n",
       "      <td>0.0000</td>\n",
       "    </tr>\n",
       "    <tr>\n",
       "      <th>...</th>\n",
       "      <td>...</td>\n",
       "      <td>...</td>\n",
       "      <td>...</td>\n",
       "    </tr>\n",
       "    <tr>\n",
       "      <th>17199</th>\n",
       "      <td>2022-11-30</td>\n",
       "      <td>Samsung Electronics, the founding anniversary....</td>\n",
       "      <td>0.0000</td>\n",
       "    </tr>\n",
       "    <tr>\n",
       "      <th>17200</th>\n",
       "      <td>2022-11-30</td>\n",
       "      <td>Samsung Electronics is the founding anniversar...</td>\n",
       "      <td>0.3182</td>\n",
       "    </tr>\n",
       "    <tr>\n",
       "      <th>17201</th>\n",
       "      <td>2022-11-30</td>\n",
       "      <td>Samsung Electronics and founder of Samsung Ele...</td>\n",
       "      <td>0.0000</td>\n",
       "    </tr>\n",
       "    <tr>\n",
       "      <th>17202</th>\n",
       "      <td>2022-11-30</td>\n",
       "      <td>The world's top-class...Samsung Electronics' f...</td>\n",
       "      <td>0.0000</td>\n",
       "    </tr>\n",
       "    <tr>\n",
       "      <th>17203</th>\n",
       "      <td>2022-11-30</td>\n",
       "      <td>\"I'm the first time\". \"I'm going to be calm an...</td>\n",
       "      <td>0.5574</td>\n",
       "    </tr>\n",
       "  </tbody>\n",
       "</table>\n",
       "<p>17204 rows × 3 columns</p>\n",
       "</div>"
      ],
      "text/plain": [
       "              날짜                                               뉴스제목    감성점수\n",
       "0     2022-01-01  I'm an elementary school student. I'm a shareh...  0.1779\n",
       "1     2022-01-01  \"Samsung Electronics Article 100 and SK Hynix ...  0.0000\n",
       "2     2022-01-01  \"New performance record\" Should Samsung Electr...  0.0000\n",
       "3     2022-01-02  \"I'm the king of semiconductors\"...Samsung Ele... -0.3818\n",
       "4     2022-01-02  Samsung Electronics has regained its semicondu...  0.0000\n",
       "...          ...                                                ...     ...\n",
       "17199 2022-11-30  Samsung Electronics, the founding anniversary....  0.0000\n",
       "17200 2022-11-30  Samsung Electronics is the founding anniversar...  0.3182\n",
       "17201 2022-11-30  Samsung Electronics and founder of Samsung Ele...  0.0000\n",
       "17202 2022-11-30  The world's top-class...Samsung Electronics' f...  0.0000\n",
       "17203 2022-11-30  \"I'm the first time\". \"I'm going to be calm an...  0.5574\n",
       "\n",
       "[17204 rows x 3 columns]"
      ]
     },
     "execution_count": 7,
     "metadata": {},
     "output_type": "execute_result"
    }
   ],
   "source": [
    "df"
   ]
  },
  {
   "cell_type": "code",
   "execution_count": 8,
   "id": "70e08031",
   "metadata": {},
   "outputs": [],
   "source": [
    "pos = 0\n",
    "neg = 0\n",
    "neu = 0 "
   ]
  },
  {
   "cell_type": "code",
   "execution_count": 9,
   "id": "91596d69",
   "metadata": {},
   "outputs": [],
   "source": [
    "for i in range(len(df)):\n",
    "    if df['감성점수'][i] > 0:\n",
    "        pos += 1\n",
    "    elif df['감성점수'][i] < 0:\n",
    "        neg += 1\n",
    "    else:\n",
    "        neu += 1"
   ]
  },
  {
   "cell_type": "code",
   "execution_count": 10,
   "id": "82c5b800",
   "metadata": {},
   "outputs": [
    {
     "name": "stdout",
     "output_type": "stream",
     "text": [
      "긍정: 5621 부정: 1655 중립: 9928\n"
     ]
    }
   ],
   "source": [
    "print(\"긍정:\", pos, \"부정:\", neg, \"중립:\", neu)"
   ]
  },
  {
   "cell_type": "code",
   "execution_count": 11,
   "id": "7c12210b",
   "metadata": {},
   "outputs": [],
   "source": [
    "df = df.groupby(\"날짜\")[\"감성점수\"].mean()"
   ]
  },
  {
   "cell_type": "code",
   "execution_count": 12,
   "id": "3501ebc3",
   "metadata": {},
   "outputs": [],
   "source": [
    "df = df.to_frame()"
   ]
  },
  {
   "cell_type": "code",
   "execution_count": 13,
   "id": "101d7c20",
   "metadata": {
    "scrolled": true
   },
   "outputs": [
    {
     "data": {
      "text/html": [
       "<div>\n",
       "<style scoped>\n",
       "    .dataframe tbody tr th:only-of-type {\n",
       "        vertical-align: middle;\n",
       "    }\n",
       "\n",
       "    .dataframe tbody tr th {\n",
       "        vertical-align: top;\n",
       "    }\n",
       "\n",
       "    .dataframe thead th {\n",
       "        text-align: right;\n",
       "    }\n",
       "</style>\n",
       "<table border=\"1\" class=\"dataframe\">\n",
       "  <thead>\n",
       "    <tr style=\"text-align: right;\">\n",
       "      <th></th>\n",
       "      <th>감성점수</th>\n",
       "    </tr>\n",
       "    <tr>\n",
       "      <th>날짜</th>\n",
       "      <th></th>\n",
       "    </tr>\n",
       "  </thead>\n",
       "  <tbody>\n",
       "    <tr>\n",
       "      <th>2022-01-01</th>\n",
       "      <td>0.059300</td>\n",
       "    </tr>\n",
       "    <tr>\n",
       "      <th>2022-01-02</th>\n",
       "      <td>-0.075983</td>\n",
       "    </tr>\n",
       "    <tr>\n",
       "      <th>2022-01-03</th>\n",
       "      <td>0.105699</td>\n",
       "    </tr>\n",
       "    <tr>\n",
       "      <th>2022-01-04</th>\n",
       "      <td>0.165923</td>\n",
       "    </tr>\n",
       "    <tr>\n",
       "      <th>2022-01-05</th>\n",
       "      <td>0.248681</td>\n",
       "    </tr>\n",
       "    <tr>\n",
       "      <th>...</th>\n",
       "      <td>...</td>\n",
       "    </tr>\n",
       "    <tr>\n",
       "      <th>2022-11-26</th>\n",
       "      <td>0.000000</td>\n",
       "    </tr>\n",
       "    <tr>\n",
       "      <th>2022-11-27</th>\n",
       "      <td>-0.019863</td>\n",
       "    </tr>\n",
       "    <tr>\n",
       "      <th>2022-11-28</th>\n",
       "      <td>0.232972</td>\n",
       "    </tr>\n",
       "    <tr>\n",
       "      <th>2022-11-29</th>\n",
       "      <td>0.128398</td>\n",
       "    </tr>\n",
       "    <tr>\n",
       "      <th>2022-11-30</th>\n",
       "      <td>0.040427</td>\n",
       "    </tr>\n",
       "  </tbody>\n",
       "</table>\n",
       "<p>333 rows × 1 columns</p>\n",
       "</div>"
      ],
      "text/plain": [
       "                감성점수\n",
       "날짜                  \n",
       "2022-01-01  0.059300\n",
       "2022-01-02 -0.075983\n",
       "2022-01-03  0.105699\n",
       "2022-01-04  0.165923\n",
       "2022-01-05  0.248681\n",
       "...              ...\n",
       "2022-11-26  0.000000\n",
       "2022-11-27 -0.019863\n",
       "2022-11-28  0.232972\n",
       "2022-11-29  0.128398\n",
       "2022-11-30  0.040427\n",
       "\n",
       "[333 rows x 1 columns]"
      ]
     },
     "execution_count": 13,
     "metadata": {},
     "output_type": "execute_result"
    }
   ],
   "source": [
    "df"
   ]
  },
  {
   "cell_type": "code",
   "execution_count": 14,
   "id": "67039212",
   "metadata": {},
   "outputs": [],
   "source": [
    "df.to_csv('삼성전자_감성점수_일별.csv', encoding='utf-8-sig')"
   ]
  },
  {
   "cell_type": "code",
   "execution_count": 15,
   "id": "97b1e831",
   "metadata": {},
   "outputs": [],
   "source": [
    "pos = 0\n",
    "neg = 0\n",
    "neu = 0"
   ]
  },
  {
   "cell_type": "code",
   "execution_count": 16,
   "id": "d0fd6867",
   "metadata": {},
   "outputs": [],
   "source": [
    "for i in range(len(df)):\n",
    "    if df['감성점수'][i] > 0:\n",
    "        pos += 1\n",
    "    elif df['감성점수'][i] < 0:\n",
    "        neg += 1\n",
    "    else:\n",
    "        neu += 1"
   ]
  },
  {
   "cell_type": "code",
   "execution_count": 17,
   "id": "c16d2399",
   "metadata": {},
   "outputs": [
    {
     "name": "stdout",
     "output_type": "stream",
     "text": [
      "긍정: 293 부정: 28 중립: 12\n"
     ]
    }
   ],
   "source": [
    "print(\"긍정:\", pos, \"부정:\", neg, \"중립:\", neu)"
   ]
  }
 ],
 "metadata": {
  "kernelspec": {
   "display_name": "Python 3 (ipykernel)",
   "language": "python",
   "name": "python3"
  },
  "language_info": {
   "codemirror_mode": {
    "name": "ipython",
    "version": 3
   },
   "file_extension": ".py",
   "mimetype": "text/x-python",
   "name": "python",
   "nbconvert_exporter": "python",
   "pygments_lexer": "ipython3",
   "version": "3.9.7"
  }
 },
 "nbformat": 4,
 "nbformat_minor": 5
}
