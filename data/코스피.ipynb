{
 "cells": [
  {
   "cell_type": "code",
   "execution_count": 12,
   "id": "bad569b6",
   "metadata": {},
   "outputs": [],
   "source": [
    "import pandas as pd\n",
    "import pandas_datareader.data as web\n",
    "import yfinance as yf\n",
    "yf.pdr_override()"
   ]
  },
  {
   "cell_type": "code",
   "execution_count": 13,
   "id": "5c1733b3",
   "metadata": {},
   "outputs": [],
   "source": [
    "start_date = '2022-01-01'\n",
    "end_date = '2022-12-01'"
   ]
  },
  {
   "cell_type": "code",
   "execution_count": 16,
   "id": "b51fe58d",
   "metadata": {
    "scrolled": true
   },
   "outputs": [
    {
     "name": "stdout",
     "output_type": "stream",
     "text": [
      "[*********************100%***********************]  1 of 1 completed\n",
      "\n",
      "1 Failed download:\n",
      "- (^KS200): No data found for this date range, symbol may be delisted\n"
     ]
    }
   ],
   "source": [
    "df = web.get_data_yahoo(['^KS11'], start=start_date, end=end_date)['Adj Close'].pct_change().dropna()"
   ]
  },
  {
   "cell_type": "code",
   "execution_count": 4,
   "id": "9b500115",
   "metadata": {
    "scrolled": true
   },
   "outputs": [
    {
     "data": {
      "text/plain": [
       "Date\n",
       "2022-01-05   -0.011799\n",
       "2022-01-06   -0.011320\n",
       "2022-01-07    0.011765\n",
       "2022-01-10   -0.009533\n",
       "2022-01-11    0.000225\n",
       "                ...   \n",
       "2022-11-24    0.009644\n",
       "2022-11-25   -0.001421\n",
       "2022-11-28   -0.012138\n",
       "2022-11-29    0.010431\n",
       "2022-11-30    0.016085\n",
       "Name: Adj Close, Length: 222, dtype: float64"
      ]
     },
     "execution_count": 4,
     "metadata": {},
     "output_type": "execute_result"
    }
   ],
   "source": [
    "df"
   ]
  },
  {
   "cell_type": "code",
   "execution_count": 5,
   "id": "b4033349",
   "metadata": {},
   "outputs": [],
   "source": [
    "df.to_csv('코스피_일별.csv', encoding='utf-8-sig')"
   ]
  }
 ],
 "metadata": {
  "kernelspec": {
   "display_name": "Python 3 (ipykernel)",
   "language": "python",
   "name": "python3"
  },
  "language_info": {
   "codemirror_mode": {
    "name": "ipython",
    "version": 3
   },
   "file_extension": ".py",
   "mimetype": "text/x-python",
   "name": "python",
   "nbconvert_exporter": "python",
   "pygments_lexer": "ipython3",
   "version": "3.9.7"
  }
 },
 "nbformat": 4,
 "nbformat_minor": 5
}
