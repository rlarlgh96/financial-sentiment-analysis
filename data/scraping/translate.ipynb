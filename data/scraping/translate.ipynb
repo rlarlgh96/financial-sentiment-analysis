{
 "cells": [
  {
   "cell_type": "code",
   "execution_count": 1,
   "id": "009231d6",
   "metadata": {},
   "outputs": [],
   "source": [
    "import pandas as pd\n",
    "import time\n",
    "from selenium import webdriver\n",
    "from selenium.webdriver.common.by import By\n",
    "from selenium.webdriver.common.keys import Keys"
   ]
  },
  {
   "cell_type": "code",
   "execution_count": 2,
   "id": "2370e319",
   "metadata": {},
   "outputs": [],
   "source": [
    "def translate(date_list, title_list):\n",
    "    \n",
    "        for i in range(len(title_list)):\n",
    "            try:\n",
    "                # 페이지 이동\n",
    "                driver.get('https://papago.naver.com/?sk=ko&tk=en')\n",
    "                time.sleep(1)\n",
    "\n",
    "                # 번역할 문장 입력\n",
    "                driver.find_element(By.XPATH, '//*[@id=\"txtSource\"]').send_keys(title_list[i])\n",
    "                driver.find_element(By.XPATH, '//*[@id=\"btnTranslate\"]').click()\n",
    "                time.sleep(2)\n",
    "\n",
    "                # 번역된 문장 출력\n",
    "                title = driver.find_element(By.XPATH, '//*[@id=\"txtTarget\"]/span')\n",
    "                news_list.append([date_list[i], title.text])\n",
    "            \n",
    "            except:\n",
    "                continue"
   ]
  },
  {
   "cell_type": "code",
   "execution_count": 3,
   "id": "372a24fc",
   "metadata": {},
   "outputs": [],
   "source": [
    "# 데이터 불러오기\n",
    "df = pd.read_csv('삼성전자.csv')"
   ]
  },
  {
   "cell_type": "code",
   "execution_count": 4,
   "id": "cf477a29",
   "metadata": {},
   "outputs": [],
   "source": [
    "date_list = list(df['날짜'])"
   ]
  },
  {
   "cell_type": "code",
   "execution_count": 5,
   "id": "fcb5256f",
   "metadata": {},
   "outputs": [],
   "source": [
    "title_list = list(df['뉴스제목'])"
   ]
  },
  {
   "cell_type": "code",
   "execution_count": 6,
   "id": "5035b9f6",
   "metadata": {},
   "outputs": [],
   "source": [
    "# 데이터를 수집할 빈 리스트 만들기\n",
    "news_list = []"
   ]
  },
  {
   "cell_type": "code",
   "execution_count": 7,
   "id": "640c953f",
   "metadata": {},
   "outputs": [],
   "source": [
    "# 크롬드라이버 실행\n",
    "driver = webdriver.Chrome('../chromedriver')"
   ]
  },
  {
   "cell_type": "code",
   "execution_count": 8,
   "id": "cf65aa3e",
   "metadata": {},
   "outputs": [],
   "source": [
    "translate(date_list, title_list)"
   ]
  },
  {
   "cell_type": "code",
   "execution_count": 9,
   "id": "7358437d",
   "metadata": {},
   "outputs": [],
   "source": [
    "import csv\n",
    "\n",
    "feature = ['날짜', '뉴스제목']\n",
    "\n",
    "with open('삼성전자_ENG.csv', 'w', encoding='utf-8-sig', newline='') as f:\n",
    "    write = csv.writer(f)\n",
    "    \n",
    "    write.writerow(feature)\n",
    "    for i in news_list:\n",
    "        write.writerow(i)"
   ]
  }
 ],
 "metadata": {
  "kernelspec": {
   "display_name": "Python 3 (ipykernel)",
   "language": "python",
   "name": "python3"
  },
  "language_info": {
   "codemirror_mode": {
    "name": "ipython",
    "version": 3
   },
   "file_extension": ".py",
   "mimetype": "text/x-python",
   "name": "python",
   "nbconvert_exporter": "python",
   "pygments_lexer": "ipython3",
   "version": "3.9.7"
  }
 },
 "nbformat": 4,
 "nbformat_minor": 5
}
