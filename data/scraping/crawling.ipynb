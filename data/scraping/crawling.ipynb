{
 "cells": [
  {
   "cell_type": "code",
   "execution_count": null,
   "id": "67194872",
   "metadata": {},
   "outputs": [],
   "source": [
    "import time\n",
    "from selenium import webdriver\n",
    "from selenium.webdriver.common.by import By\n",
    "from selenium.webdriver.common.keys import Keys"
   ]
  },
  {
   "cell_type": "code",
   "execution_count": null,
   "id": "b5ecaa88",
   "metadata": {},
   "outputs": [],
   "source": [
    "# 크롬드라이버 실행\n",
    "driver = webdriver.Chrome('../chromedriver')"
   ]
  },
  {
   "cell_type": "code",
   "execution_count": null,
   "id": "e0efb73d",
   "metadata": {},
   "outputs": [],
   "source": [
    "def scraping(page):\n",
    "    \n",
    "    url = url_front + \"&page=\" + str(page)\n",
    "    \n",
    "    # 페이지 이동\n",
    "    driver.get(url)\n",
    "    time.sleep(1)\n",
    "\n",
    "    # 데이터 수집\n",
    "    title_list = driver.find_elements(By.CLASS_NAME, 'articleSubject')\n",
    "\n",
    "    for i in range(len(title_list)):\n",
    "\n",
    "        date = driver.find_element(By.CLASS_NAME, 'wdate').text[:10]\n",
    "        title = title_list[i].text\n",
    "        news_list.append([date, title])\n",
    "\n",
    "    \n",
    "    return news_list"
   ]
  },
  {
   "cell_type": "code",
   "execution_count": null,
   "id": "e27786f8",
   "metadata": {},
   "outputs": [],
   "source": [
    "# 데이터를 수집할 빈 리스트 만들기\n",
    "news_list = []"
   ]
  },
  {
   "cell_type": "code",
   "execution_count": null,
   "id": "23760a7c",
   "metadata": {},
   "outputs": [],
   "source": [
    "# 검색 페이지 이동(검색어: \"삼성전자\", ~75페이지, 검색범위: 제목에서만, 검색기간: 2022-01-01~2022-01-31)\n",
    "\n",
    "# url 형식\n",
    "url_front = 'https://finance.naver.com/news/news_search.naver?rcdate=&q=%BB%EF%BC%BA%C0%FC%C0%DA&x=25&y=18&sm=title.basic&pd=4&stDateStart=2022-01-01&stDateEnd=2022-01-31'\n",
    "\n",
    "# 데이터 수집(1~75페이지)\n",
    "for i in range(1, 76):\n",
    "    scraping(i)"
   ]
  },
  {
   "cell_type": "code",
   "execution_count": null,
   "id": "37ba6236",
   "metadata": {},
   "outputs": [],
   "source": [
    "# 검색 페이지 이동(검색어: \"삼성전자\", ~55페이지, 검색범위: 제목에서만, 검색기간: 2022-02-01~2022-02-28)\n",
    "\n",
    "# url 형식\n",
    "url_front = 'https://finance.naver.com/news/news_search.naver?rcdate=&q=%BB%EF%BC%BA%C0%FC%C0%DA&x=25&y=18&sm=title.basic&pd=4&stDateStart=2022-02-01&stDateEnd=2022-02-28'\n",
    "\n",
    "# 데이터 수집(1~55페이지)\n",
    "for i in range(1, 56):\n",
    "    scraping(i)"
   ]
  },
  {
   "cell_type": "code",
   "execution_count": null,
   "id": "f7823136",
   "metadata": {},
   "outputs": [],
   "source": [
    "# 검색 페이지 이동(검색어: \"삼성전자\", ~89페이지, 검색범위: 제목에서만, 검색기간: 2022-03-01~2022-03-31)\n",
    "\n",
    "# url 형식\n",
    "url_front = 'https://finance.naver.com/news/news_search.naver?rcdate=&q=%BB%EF%BC%BA%C0%FC%C0%DA&x=25&y=18&sm=title.basic&pd=4&stDateStart=2022-03-01&stDateEnd=2022-03-31'\n",
    "\n",
    "# 데이터 수집(1~89페이지)\n",
    "for i in range(1, 90):\n",
    "    scraping(i)"
   ]
  },
  {
   "cell_type": "code",
   "execution_count": null,
   "id": "f49ec791",
   "metadata": {},
   "outputs": [],
   "source": [
    "# 검색 페이지 이동(검색어: \"삼성전자\", ~95페이지, 검색범위: 제목에서만, 검색기간: 2022-04-01~2022-04-30)\n",
    "\n",
    "# url 형식\n",
    "url_front = 'https://finance.naver.com/news/news_search.naver?rcdate=&q=%BB%EF%BC%BA%C0%FC%C0%DA&x=25&y=18&sm=title.basic&pd=4&stDateStart=2022-04-01&stDateEnd=2022-04-30'\n",
    "\n",
    "# 데이터 수집(1~95페이지)\n",
    "for i in range(1, 96):\n",
    "    scraping(i)"
   ]
  },
  {
   "cell_type": "code",
   "execution_count": null,
   "id": "3f126f82",
   "metadata": {},
   "outputs": [],
   "source": [
    "# 검색 페이지 이동(검색어: \"삼성전자\", ~65페이지, 검색범위: 제목에서만, 검색기간: 2022-05-01~2022-05-31)\n",
    "\n",
    "# url 형식\n",
    "\n",
    "url_front = 'https://finance.naver.com/news/news_search.naver?rcdate=&q=%BB%EF%BC%BA%C0%FC%C0%DA&x=25&y=18&sm=title.basic&pd=4&stDateStart=2022-05-01&stDateEnd=2022-05-31'\n",
    "\n",
    "# 데이터 수집(1~65페이지)\n",
    "\n",
    "for i in range(1, 66):\n",
    "    scraping(i)"
   ]
  },
  {
   "cell_type": "code",
   "execution_count": null,
   "id": "3af95536",
   "metadata": {},
   "outputs": [],
   "source": [
    "# 검색 페이지 이동(검색어: \"삼성전자\", ~73페이지, 검색범위: 제목에서만, 검색기간: 2022-06-01~2022-06-30)\n",
    "\n",
    "# url 형식\n",
    "url_front = 'https://finance.naver.com/news/news_search.naver?rcdate=&q=%BB%EF%BC%BA%C0%FC%C0%DA&x=25&y=18&sm=title.basic&pd=4&stDateStart=2022-06-01&stDateEnd=2022-06-30'\n",
    "\n",
    "# 데이터 수집(1~73페이지)\n",
    "for i in range(1, 74):\n",
    "    scraping(i)"
   ]
  },
  {
   "cell_type": "code",
   "execution_count": null,
   "id": "ae3079dd",
   "metadata": {},
   "outputs": [],
   "source": [
    "# 검색 페이지 이동(검색어: \"삼성전자\", ~88페이지, 검색범위: 제목에서만, 검색기간: 2022-07-01~2022-07-31)\n",
    "\n",
    "# url 형식\n",
    "url_front = 'https://finance.naver.com/news/news_search.naver?rcdate=&q=%BB%EF%BC%BA%C0%FC%C0%DA&x=25&y=18&sm=title.basic&pd=4&stDateStart=2022-07-01&stDateEnd=2022-07-31'\n",
    "\n",
    "# 데이터 수집(1~88페이지)\n",
    "for i in range(1, 89):\n",
    "    scraping(i)"
   ]
  },
  {
   "cell_type": "code",
   "execution_count": null,
   "id": "77ec2e00",
   "metadata": {},
   "outputs": [],
   "source": [
    "# 검색 페이지 이동(검색어: \"삼성전자\", ~78페이지, 검색범위: 제목에서만, 검색기간: 2022-08-01~2022-08-31)\n",
    "\n",
    "# url 형식\n",
    "url_front = 'https://finance.naver.com/news/news_search.naver?rcdate=&q=%BB%EF%BC%BA%C0%FC%C0%DA&x=25&y=18&sm=title.basic&pd=4&stDateStart=2022-08-01&stDateEnd=2022-08-31'\n",
    "\n",
    "# 데이터 수집(1~78페이지)\n",
    "for i in range(1, 79):\n",
    "    scraping(i)"
   ]
  },
  {
   "cell_type": "code",
   "execution_count": null,
   "id": "b58ffba4",
   "metadata": {},
   "outputs": [],
   "source": [
    "# 검색 페이지 이동(검색어: \"삼성전자\", ~73페이지, 검색범위: 제목에서만, 검색기간: 2022-09-01~2022-09-30)\n",
    "\n",
    "# url 형식\n",
    "url_front = 'https://finance.naver.com/news/news_search.naver?rcdate=&q=%BB%EF%BC%BA%C0%FC%C0%DA&x=25&y=18&sm=title.basic&pd=4&stDateStart=2022-09-01&stDateEnd=2022-09-30'\n",
    "\n",
    "# 데이터 수집(1~73페이지)\n",
    "for i in range(1, 74):\n",
    "    scraping(i)"
   ]
  },
  {
   "cell_type": "code",
   "execution_count": null,
   "id": "b1fe9afd",
   "metadata": {},
   "outputs": [],
   "source": [
    "# 검색 페이지 이동(검색어: \"삼성전자\", ~102페이지, 검색범위: 제목에서만, 검색기간: 2022-10-01~2022-10-31)\n",
    "\n",
    "# url 형식\n",
    "url_front = 'https://finance.naver.com/news/news_search.naver?rcdate=&q=%BB%EF%BC%BA%C0%FC%C0%DA&x=25&y=18&sm=title.basic&pd=4&stDateStart=2022-10-01&stDateEnd=2022-10-31'\n",
    "\n",
    "# 데이터 수집(1~102페이지)\n",
    "for i in range(1, 103):\n",
    "    scraping(i)"
   ]
  },
  {
   "cell_type": "code",
   "execution_count": null,
   "id": "b69b6dbe",
   "metadata": {},
   "outputs": [],
   "source": [
    "# 검색 페이지 이동(검색어: \"삼성전자\", ~74페이지, 검색범위: 제목에서만, 검색기간: 2022-11-01~2022-11-30)\n",
    "\n",
    "# url 형식\n",
    "url_front = 'https://finance.naver.com/news/news_search.naver?rcdate=&q=%BB%EF%BC%BA%C0%FC%C0%DA&x=25&y=18&sm=title.basic&pd=4&stDateStart=2022-11-01&stDateEnd=2022-11-30'\n",
    "\n",
    "# 데이터 수집(1~74페이지)\n",
    "for i in range(1, 75):\n",
    "    scraping(i)"
   ]
  },
  {
   "cell_type": "code",
   "execution_count": null,
   "id": "541f2220",
   "metadata": {},
   "outputs": [],
   "source": [
    "import csv\n",
    "\n",
    "feature = ['날짜', '뉴스제목']\n",
    "\n",
    "with open('삼성전자.csv', 'w', encoding='utf-8-sig', newline='') as f:\n",
    "    write = csv.writer(f)\n",
    "    \n",
    "    write.writerow(feature)\n",
    "    for i in news_list:\n",
    "        if len(i[1]) < 32767:\n",
    "            write.writerow(i)"
   ]
  }
 ],
 "metadata": {
  "kernelspec": {
   "display_name": "Python 3 (ipykernel)",
   "language": "python",
   "name": "python3"
  },
  "language_info": {
   "codemirror_mode": {
    "name": "ipython",
    "version": 3
   },
   "file_extension": ".py",
   "mimetype": "text/x-python",
   "name": "python",
   "nbconvert_exporter": "python",
   "pygments_lexer": "ipython3",
   "version": "3.9.7"
  }
 },
 "nbformat": 4,
 "nbformat_minor": 5
}
