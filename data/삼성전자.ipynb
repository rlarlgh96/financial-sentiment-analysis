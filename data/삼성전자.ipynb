{
 "cells": [
  {
   "cell_type": "code",
   "execution_count": 1,
   "id": "bad569b6",
   "metadata": {},
   "outputs": [],
   "source": [
    "import pandas as pd\n",
    "import pandas_datareader.data as web\n",
    "import yfinance as yf\n",
    "yf.pdr_override()"
   ]
  },
  {
   "cell_type": "code",
   "execution_count": 2,
   "id": "5c1733b3",
   "metadata": {},
   "outputs": [],
   "source": [
    "start_date = '2022-01-01'\n",
    "end_date = '2022-12-01'"
   ]
  },
  {
   "cell_type": "code",
   "execution_count": 3,
   "id": "f656d561",
   "metadata": {},
   "outputs": [
    {
     "name": "stdout",
     "output_type": "stream",
     "text": [
      "[*********************100%***********************]  1 of 1 completed\n"
     ]
    }
   ],
   "source": [
    "df = web.get_data_yahoo(['005930.KS'], start=start_date, end=end_date)['Adj Close'].pct_change().dropna()"
   ]
  },
  {
   "cell_type": "code",
   "execution_count": 4,
   "id": "5b866f7f",
   "metadata": {},
   "outputs": [
    {
     "data": {
      "text/plain": [
       "Date\n",
       "2022-01-05   -0.016518\n",
       "2022-01-06   -0.006460\n",
       "2022-01-07    0.018205\n",
       "2022-01-10   -0.003831\n",
       "2022-01-11    0.011538\n",
       "                ...   \n",
       "2022-11-24    0.006557\n",
       "2022-11-25   -0.006515\n",
       "2022-11-28   -0.014754\n",
       "2022-11-29    0.008319\n",
       "2022-11-30    0.026403\n",
       "Name: Adj Close, Length: 222, dtype: float64"
      ]
     },
     "execution_count": 4,
     "metadata": {},
     "output_type": "execute_result"
    }
   ],
   "source": [
    "df"
   ]
  },
  {
   "cell_type": "code",
   "execution_count": 5,
   "id": "36febd9d",
   "metadata": {},
   "outputs": [],
   "source": [
    "df.to_csv('삼성전자_일별.csv', encoding='utf-8-sig')"
   ]
  }
 ],
 "metadata": {
  "kernelspec": {
   "display_name": "Python 3 (ipykernel)",
   "language": "python",
   "name": "python3"
  },
  "language_info": {
   "codemirror_mode": {
    "name": "ipython",
    "version": 3
   },
   "file_extension": ".py",
   "mimetype": "text/x-python",
   "name": "python",
   "nbconvert_exporter": "python",
   "pygments_lexer": "ipython3",
   "version": "3.9.7"
  }
 },
 "nbformat": 4,
 "nbformat_minor": 5
}
